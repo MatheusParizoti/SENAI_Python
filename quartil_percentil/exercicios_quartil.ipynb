{
 "cells": [
  {
   "cell_type": "markdown",
   "id": "a6a0a7c7-f787-47c2-a114-b90c6cda161a",
   "metadata": {},
   "source": [
    "exercicios"
   ]
  },
  {
   "cell_type": "markdown",
   "id": "33a4f6d8-ea73-4858-8c91-f9d66cad7b8c",
   "metadata": {},
   "source": [
    "1. Calcule a média do conjunto: [8, 6, 7, 9, 5\n",
    "2. "
   ]
  },
  {
   "cell_type": "code",
   "execution_count": 6,
   "id": "57467530-8fe0-48bb-83ca-1db3b9a5f6b2",
   "metadata": {},
   "outputs": [],
   "source": [
    "import numpy as np"
   ]
  },
  {
   "cell_type": "code",
   "execution_count": 9,
   "id": "e675904f-811b-40fd-8dcf-5bafd5d3073e",
   "metadata": {},
   "outputs": [
    {
     "name": "stdout",
     "output_type": "stream",
     "text": [
      "7.0\n"
     ]
    }
   ],
   "source": [
    "aba = [8, 6, 7, 9, 5]\n",
    "media = np.mean(aba)\n",
    "print(media)"
   ]
  },
  {
   "cell_type": "markdown",
   "id": "35375391-f3e2-4f9d-8b38-812705c9b378",
   "metadata": {},
   "source": [
    "2. Encontre a mediana: [4, 7, 8, 10, 3]."
   ]
  },
  {
   "cell_type": "code",
   "execution_count": 15,
   "id": "07a56741-c663-45e0-a06f-0f9ff2e2b49d",
   "metadata": {},
   "outputs": [
    {
     "name": "stdout",
     "output_type": "stream",
     "text": [
      "7.0\n"
     ]
    }
   ],
   "source": [
    "abb = [4, 7, 8, 10, 3]\n",
    "mediana = np.median(abb)\n",
    "print(mediana)"
   ]
  },
  {
   "cell_type": "markdown",
   "id": "7e18f59e-2149-4f72-9414-663e1b54da3e",
   "metadata": {},
   "source": [
    "3. Determine o mínimo e o máximo: [45, 30, 50, 38, 42].\n"
   ]
  },
  {
   "cell_type": "code",
   "execution_count": 19,
   "id": "d3d51fef-2463-49aa-ad93-2a3f98d7fe14",
   "metadata": {},
   "outputs": [
    {
     "name": "stdout",
     "output_type": "stream",
     "text": [
      "30 50\n"
     ]
    }
   ],
   "source": [
    "abc =  [45, 30, 50, 38, 42]\n",
    "minimo = min(abc)\n",
    "maximo = max(abc)\n",
    "\n",
    "print(minimo, maximo)"
   ]
  },
  {
   "cell_type": "markdown",
   "id": "c8430782-3388-4477-8004-c3a6c222586d",
   "metadata": {},
   "source": [
    "4. Calcule a variância: [5, 7, 9, 10, 5].\n"
   ]
  },
  {
   "cell_type": "code",
   "execution_count": 20,
   "id": "0ac3756d-5495-48f4-9afe-f129e31d24b5",
   "metadata": {},
   "outputs": [
    {
     "name": "stdout",
     "output_type": "stream",
     "text": [
      "4.16\n"
     ]
    }
   ],
   "source": [
    "abd = [5, 7, 9, 10, 5]\n",
    "variancia = np.var(abd)\n",
    "print(variancia)"
   ]
  },
  {
   "cell_type": "markdown",
   "id": "94490e01-0698-466b-b6e6-f677b5158bdd",
   "metadata": {},
   "source": [
    "5. Calcule o desvio-padrão: [15, 18, 21, 19, 17].\n"
   ]
  },
  {
   "cell_type": "code",
   "execution_count": 21,
   "id": "27ad9fbf-df55-400b-82e6-8f22acc5c877",
   "metadata": {},
   "outputs": [
    {
     "name": "stdout",
     "output_type": "stream",
     "text": [
      "2.0\n"
     ]
    }
   ],
   "source": [
    "abe = [15, 18, 21, 19, 17]\n",
    "desvio_padrao_numpy = np.std(abe)\n",
    "print(desvio_padrao_numpy)"
   ]
  },
  {
   "cell_type": "markdown",
   "id": "c5d29ae1-ec23-4378-8509-4a86a7c4229d",
   "metadata": {},
   "source": [
    "6. Calcule Q1, Q2 e Q3 para: [2, 5, 7, 8, 10, 12, 15, 18]."
   ]
  },
  {
   "cell_type": "code",
   "execution_count": 22,
   "id": "06be0723-1b49-4037-b1b6-d4affc48e1c1",
   "metadata": {},
   "outputs": [
    {
     "name": "stdout",
     "output_type": "stream",
     "text": [
      "Q1 (25%): 6.5\n",
      "Q2 (mediana - 50%): 9.0\n",
      "Q3 (75%): 12.75\n"
     ]
    }
   ],
   "source": [
    "import numpy as np\n",
    "\n",
    "# Lista de dados\n",
    "dados = [2, 5, 7, 8, 10, 12, 15, 18]\n",
    "\n",
    "# Quartis\n",
    "q1 = np.percentile(dados, 25)\n",
    "q2 = np.percentile(dados, 50)  # ou np.median(dados)\n",
    "q3 = np.percentile(dados, 75)\n",
    "\n",
    "print(f\"Q1 (25%): {q1}\")\n",
    "print(f\"Q2 (mediana - 50%): {q2}\")\n",
    "print(f\"Q3 (75%): {q3}\")\n"
   ]
  },
  {
   "cell_type": "markdown",
   "id": "77ab396e-1750-44c2-8e9a-951112caf048",
   "metadata": {},
   "source": [
    "7. Determine o percentil 25 de: [18, 19, 21, 21, 21, 22, 22, 22, 23, 23, 24, 27].\n"
   ]
  },
  {
   "cell_type": "code",
   "execution_count": 24,
   "id": "b6787b17-140d-439e-aa39-b548a1c244a1",
   "metadata": {},
   "outputs": [
    {
     "name": "stdout",
     "output_type": "stream",
     "text": [
      "Percentil 25: 21.0\n"
     ]
    }
   ],
   "source": [
    "dados = [18, 19, 21, 21, 21, 22, 22, 22, 23, 23, 24, 27]\n",
    "\n",
    "p25 = np.percentile(dados, 25)\n",
    "print(f\"Percentil 25: {p25}\")"
   ]
  },
  {
   "cell_type": "markdown",
   "id": "5fb60cdd-4f98-4858-8ba3-3930f2206fe0",
   "metadata": {},
   "source": [
    "8. Ache o percentil 90 para: [5, 7, 9, 10, 15, 20, 22, 25, 30, 35]."
   ]
  },
  {
   "cell_type": "code",
   "execution_count": 27,
   "id": "982800e7-14dd-47d0-8665-cdfc6d58f264",
   "metadata": {},
   "outputs": [
    {
     "name": "stdout",
     "output_type": "stream",
     "text": [
      "Percentil 90: 30.5\n"
     ]
    }
   ],
   "source": [
    "dados = [5, 7, 9, 10, 15, 20, 22, 25, 30, 35]\n",
    "\n",
    "p90 = np.percentile(dados, 90)\n",
    "print(f\"Percentil 90: {p90}\")"
   ]
  },
  {
   "cell_type": "markdown",
   "id": "623d8567-b6ea-4f36-a8d2-3348f9f86aa8",
   "metadata": {},
   "source": [
    "9. Calcule a amplitude (máximo – mínimo) de: [102, 115, 98, 120, 110]"
   ]
  },
  {
   "cell_type": "code",
   "execution_count": 29,
   "id": "295843b9-20cf-4580-b40b-5e9e1d52ed1e",
   "metadata": {},
   "outputs": [
    {
     "name": "stdout",
     "output_type": "stream",
     "text": [
      "Amplitude: 22\n"
     ]
    }
   ],
   "source": [
    "dados = [102, 115, 98, 120, 110]\n",
    "amplitude = max(dados) - min(dados)\n",
    "print(f\"Amplitude: {amplitude}\")\n"
   ]
  },
  {
   "cell_type": "markdown",
   "id": "08302f9f-0379-4a92-aea2-8da42d5a3a18",
   "metadata": {},
   "source": [
    "10. Encontre o IQR de: [3, 7, 8, 5, 12, 14, 21, 13, 18]."
   ]
  },
  {
   "cell_type": "code",
   "execution_count": 32,
   "id": "fd841bd6-6e11-4ff7-b5a2-25888636d11b",
   "metadata": {},
   "outputs": [
    {
     "name": "stdout",
     "output_type": "stream",
     "text": [
      "IQR = 7.0\n"
     ]
    }
   ],
   "source": [
    "dados = [3, 7, 8, 5, 12, 14, 21, 13, 18]\n",
    "\n",
    "q1 = np.percentile(dados, 25)\n",
    "q3 = np.percentile(dados, 75)\n",
    "iqr = q3 - q1\n",
    "\n",
    "print(f\"IQR = {iqr}\")\n"
   ]
  },
  {
   "cell_type": "code",
   "execution_count": null,
   "id": "0a4f61f7-c375-4620-89e0-590410cdea35",
   "metadata": {},
   "outputs": [],
   "source": []
  }
 ],
 "metadata": {
  "kernelspec": {
   "display_name": "Python 3 (ipykernel)",
   "language": "python",
   "name": "python3"
  },
  "language_info": {
   "codemirror_mode": {
    "name": "ipython",
    "version": 3
   },
   "file_extension": ".py",
   "mimetype": "text/x-python",
   "name": "python",
   "nbconvert_exporter": "python",
   "pygments_lexer": "ipython3",
   "version": "3.12.7"
  }
 },
 "nbformat": 4,
 "nbformat_minor": 5
}
