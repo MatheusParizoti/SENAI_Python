{
 "cells": [
  {
   "cell_type": "code",
   "execution_count": 1,
   "id": "e547e5ca-a0dc-4b7f-bca6-90403aa14749",
   "metadata": {},
   "outputs": [
    {
     "name": "stdout",
     "output_type": "stream",
     "text": [
      "Defaulting to user installation because normal site-packages is not writeable\n",
      "Requirement already satisfied: pymongo in c:\\users\\faculdade\\appdata\\roaming\\python\\python312\\site-packages (4.11.3)\n",
      "Requirement already satisfied: dnspython<3.0.0,>=1.16.0 in c:\\users\\faculdade\\appdata\\roaming\\python\\python312\\site-packages (from pymongo) (2.7.0)\n",
      "Note: you may need to restart the kernel to use updated packages.\n"
     ]
    }
   ],
   "source": [
    "pip install pymongo"
   ]
  },
  {
   "cell_type": "code",
   "execution_count": 2,
   "id": "35ce643a-4447-439a-b12d-e2e3815b83d8",
   "metadata": {},
   "outputs": [],
   "source": [
    "from pymongo import MongoClient"
   ]
  },
  {
   "cell_type": "code",
   "execution_count": 7,
   "id": "4e988f36-72b6-4c58-ad44-12cbedb1961a",
   "metadata": {},
   "outputs": [],
   "source": [
    "from bson import ObjectId  # Importando ObjectId"
   ]
  },
  {
   "cell_type": "code",
   "execution_count": 3,
   "id": "65cdcdc4-0913-4bf8-a674-17a1bb13f3ea",
   "metadata": {},
   "outputs": [],
   "source": [
    "import gridfs"
   ]
  },
  {
   "cell_type": "code",
   "execution_count": 8,
   "id": "722f0bf3-f082-4c25-bd39-b38620700fa7",
   "metadata": {},
   "outputs": [
    {
     "name": "stdout",
     "output_type": "stream",
     "text": [
      "Arquivo enciado com ID:  67e5d7e348dae01b594370b1\n"
     ]
    }
   ],
   "source": [
    "## Pegando o link do MongoCompass\n",
    "client = MongoClient(\"mongodb://localhost:27017/\")\n",
    "\n",
    "## Nome do Banco\n",
    "db = client['meuBanco']\n",
    "\n",
    "## Função do Mongo para ler videos e musicas\n",
    "fs = gridfs.GridFS(db)\n",
    "\n",
    "## quando é video a gente usa arquivo rb\n",
    "with open(\"video.mp4\",\"rb\") as f:\n",
    "    file_id = fs.put(f, filename=\"video.mp4\")\n",
    "\n",
    "print(\"Arquivo enciado com ID: \",file_id)"
   ]
  },
  {
   "cell_type": "code",
   "execution_count": 10,
   "id": "9adde7ee-814d-443f-95c3-3e56ce0691ab",
   "metadata": {},
   "outputs": [
    {
     "name": "stdout",
     "output_type": "stream",
     "text": [
      "Arquivo recuperado e salvo com sucesso!\n"
     ]
    }
   ],
   "source": [
    "# Buscar o arquivo usando o file_id (ObjectId)\n",
    "file_id = ObjectId(\"67e5d7e348dae01b594370b1\")  # Coloque o seu ObjectId aqui\n",
    "\n",
    "# Recuperar o arquivo\n",
    "file = fs.get(file_id)\n",
    "\n",
    "# Salvar o arquivo no seu computador\n",
    "with open(\"video_recuperado.mp4\", \"wb\") as f:\n",
    "    f.write(file.read())  # Escreve o conteúdo do arquivo recuperado\n",
    "\n",
    "print(\"Arquivo recuperado e salvo com sucesso!\")"
   ]
  },
  {
   "cell_type": "code",
   "execution_count": 25,
   "id": "94c10325-9864-41d4-b378-ca2234e52f13",
   "metadata": {},
   "outputs": [
    {
     "name": "stdout",
     "output_type": "stream",
     "text": [
      "67e5f1a448dae01b594371f1\n",
      "67e5f1cd48dae01b5943720a\n",
      "Documento inserido com sucesso!\n"
     ]
    }
   ],
   "source": [
    "from datetime import datetime\n",
    "\n",
    "# Conectando ao MongoDB\n",
    "client = MongoClient(\"mongodb://localhost:27017/\")\n",
    "db = client['Biblioteca_musical']\n",
    "fs = gridfs.GridFS(db)\n",
    "\n",
    "data_adicao = datetime.now()\n",
    "print(file_id)\n",
    "\n",
    "# Quando for um arquivo de vídeo, usamos o modo 'rb'\n",
    "with open(\"musicas/Alone.mp3\", \"rb\") as f:\n",
    "    file_id = fs.put(f, filename=\"Alone.mp3\")\n",
    "\n",
    "print(file_id)\n",
    "\n",
    "# Criando o documento a ser inserido\n",
    "documento = {\n",
    "    \"titulo\": \"Alone\",\n",
    "    \"tipo\": \"vídeo\",\n",
    "    \"descricao\": \"Uma musica triste\",\n",
    "    \"data_adicao\": data_adicao,\n",
    "    \"tags\": [\"musica\", \"video\", \"arte\"],\n",
    "    \"favorito\": True,\n",
    "    \"file_id\": file_id  \n",
    "}\n",
    "\n",
    "# Inserindo o documento na coleção\n",
    "colecao = db['materiais'] \n",
    "colecao.insert_one(documento)\n",
    "\n",
    "print(\"Documento inserido com sucesso!\")\n"
   ]
  },
  {
   "cell_type": "code",
   "execution_count": 48,
   "id": "7e8bd42c-bea8-451e-ac30-c15612db7a61",
   "metadata": {},
   "outputs": [
    {
     "name": "stdout",
     "output_type": "stream",
     "text": [
      "Documento para a música 'Andaime' inserido com sucesso!\n",
      "Documento para a música 'Beautiful' inserido com sucesso!\n"
     ]
    }
   ],
   "source": [
    "# Função para inserir múltiplas músicas\n",
    "def add_multiplos():\n",
    "    client = MongoClient(\"mongodb://localhost:27017/\")\n",
    "    db = client['Biblioteca_musical']\n",
    "    fs = gridfs.GridFS(db)\n",
    "\n",
    "    # Lista de músicas que você deseja adicionar\n",
    "    musicas = [\n",
    "        {\"caminho\": \"musicas/LEEONA.mp3\", \"titulo\": \"Andaime\", \"descricao\": \"Musicas que caem na sua mente\", \"tags\": [\"musica\", \"queda\", \"arte\"]},\n",
    "        {\"caminho\": \"musicas/Host.mp3\", \"titulo\": \"Beautiful\", \"descricao\": \"Uma musica linda aos ouvidos\", \"tags\": [\"musica\", \"bonita\", \"video\"]},\n",
    "    ]\n",
    "\n",
    "    for musica in musicas:\n",
    "        try:\n",
    "            with open(musica[\"caminho\"], \"rb\") as f:\n",
    "                file_id = fs.put(f, filename=os.path.basename(musica[\"caminho\"]))\n",
    "\n",
    "            # Criando o documento a ser inserido\n",
    "            documento = {\n",
    "                \"titulo\": musica[\"titulo\"],\n",
    "                \"tipo\": \"áudio\",  \n",
    "                \"descricao\": musica[\"descricao\"],\n",
    "                \"data_adicao\": datetime.now(),\n",
    "                \"tags\": musica[\"tags\"],\n",
    "                \"favorito\": False,  \n",
    "                \"file_id\": file_id\n",
    "            }\n",
    "\n",
    "            # Inserindo o documento na coleção\n",
    "            colecao = db['materiais']\n",
    "            colecao.insert_one(documento)\n",
    "\n",
    "            print(f\"Documento para a música '{musica['titulo']}' inserido com sucesso!\")\n",
    "        except Exception as e:\n",
    "            print(f\"Erro ao adicionar a música '{musica['titulo']}': {e}\")\n",
    "\n",
    "\n",
    "add_multiplos()"
   ]
  },
  {
   "cell_type": "code",
   "execution_count": 63,
   "id": "337e014c-7285-43c0-a78f-7940c8cf24a4",
   "metadata": {},
   "outputs": [
    {
     "name": "stdin",
     "output_type": "stream",
     "text": [
      "Digite a tag que voce quer procurar calma\n"
     ]
    },
    {
     "name": "stdout",
     "output_type": "stream",
     "text": [
      "\n",
      "Título: Alone\n",
      "Tipo: vídeo\n",
      "Data: 2025-03-27 21:48:13.159000\n",
      "Descrição: Uma musica triste\n",
      "Tags: ['musica', 'calma', 'arte']\n",
      "Favorito: True\n",
      "\n",
      "Título: Host\n",
      "Tipo: áudio\n",
      "Data: 2025-03-27 22:07:48.124000\n",
      "Descrição: Uma musica final de tarde\n",
      "Tags: ['musica', 'calma', 'video']\n",
      "Favorito: False\n",
      "\n"
     ]
    }
   ],
   "source": [
    "def buscar_musicas():\n",
    "\n",
    "    n1 = str(input(\"Digite a tag que voce quer procurar\"))\n",
    "    print(\"\")\n",
    "    musica_com_calma = colecao.find({\"tags\": n1})\n",
    "\n",
    "    for musica in musica_com_calma:\n",
    "        print(f\"Título: {musica['titulo']}\")\n",
    "        print(f\"Tipo: {musica['tipo']}\")\n",
    "        print(f\"Data: {musica['data_adicao']}\")\n",
    "        print(f\"Descrição: {musica['descricao']}\")\n",
    "        print(f\"Tags: {musica['tags']}\")\n",
    "        print(f\"Favorito: {musica['favorito']}\")\n",
    "        print(\"\")\n",
    "\n",
    "\n",
    "buscar_musicas()"
   ]
  },
  {
   "cell_type": "code",
   "execution_count": 59,
   "id": "d99346e4-7488-4be0-a382-9f3c8d5cb735",
   "metadata": {},
   "outputs": [
    {
     "name": "stdin",
     "output_type": "stream",
     "text": [
      "Se voce quer ver os favoritos ou normais 1\n"
     ]
    },
    {
     "name": "stdout",
     "output_type": "stream",
     "text": [
      "\n",
      "Título: Hope\n",
      "Tipo: alegria\n",
      "Data: 2025-03-27 21:14:10.832000\n",
      "Descrição: Uma musica bem calma\n",
      "Tags: ['musica', 'balada', 'arte']\n",
      "Favorito: True\n",
      "\n",
      "Título: Erickfill\n",
      "Tipo: alegria\n",
      "Data: 2025-03-27 21:14:10.832000\n",
      "Descrição: Uma musica vibe\n",
      "Tags: ['musica', 'video', 'arte']\n",
      "Favorito: True\n",
      "\n",
      "Título: Lisofv\n",
      "Tipo: vídeo\n",
      "Data: 2025-03-27 21:37:37.784000\n",
      "Descrição: Uma musica vibe\n",
      "Tags: ['musica', 'video', 'arte']\n",
      "Favorito: True\n",
      "\n",
      "Título: Alone\n",
      "Tipo: vídeo\n",
      "Data: 2025-03-27 21:48:13.159000\n",
      "Descrição: Uma musica triste\n",
      "Tags: ['musica', 'calma', 'arte']\n",
      "Favorito: True\n",
      "\n"
     ]
    }
   ],
   "source": [
    "def buscar_favorito():\n",
    "\n",
    "    n1 = int(input(\"Se voce quer ver os favoritos ou normais\"))\n",
    "    if n1 == 1:\n",
    "        V = True\n",
    "    elif n1 == 2:\n",
    "        V = False\n",
    "    print(\"\")\n",
    "    musica_com_calma = colecao.find({\"favorito\": V})\n",
    "\n",
    "    for musica in musica_com_calma:\n",
    "        print(f\"Título: {musica['titulo']}\")\n",
    "        print(f\"Tipo: {musica['tipo']}\")\n",
    "        print(f\"Data: {musica['data_adicao']}\")\n",
    "        print(f\"Descrição: {musica['descricao']}\")\n",
    "        print(f\"Tags: {musica['tags']}\")\n",
    "        print(f\"Favorito: {musica['favorito']}\")\n",
    "        print(\"\")\n",
    "\n",
    "\n",
    "buscar_favorito()"
   ]
  },
  {
   "cell_type": "code",
   "execution_count": 60,
   "id": "84af6d71-010b-4ee3-b9ea-0ce0a243ebc9",
   "metadata": {},
   "outputs": [
    {
     "name": "stdout",
     "output_type": "stream",
     "text": [
      "Título: Hope\n",
      "Tipo: alegria\n",
      "\n",
      "Título: Erickfill\n",
      "Tipo: alegria\n",
      "\n",
      "Título: Lisofv\n",
      "Tipo: vídeo\n",
      "\n",
      "Título: Alone\n",
      "Tipo: vídeo\n",
      "\n",
      "Título: LEEONA\n",
      "Tipo: áudio\n",
      "\n",
      "Título: Host\n",
      "Tipo: áudio\n",
      "\n",
      "Título: Andaime\n",
      "Tipo: áudio\n",
      "\n",
      "Título: Beautiful\n",
      "Tipo: áudio\n",
      "\n"
     ]
    }
   ],
   "source": [
    "def buscar():\n",
    "    musica_com_calma = colecao.find({\"tags\": \"musica\"})\n",
    "\n",
    "    for musica in musica_com_calma:\n",
    "        print(f\"Título: {musica['titulo']}\")\n",
    "        print(f\"Tipo: {musica['tipo']}\")\n",
    "        print(\"\")\n",
    "\n",
    "\n",
    "buscar()"
   ]
  },
  {
   "cell_type": "code",
   "execution_count": 62,
   "id": "4a9fd5fc-d3c8-440b-b2de-83ba154c3d9c",
   "metadata": {},
   "outputs": [
    {
     "name": "stdout",
     "output_type": "stream",
     "text": [
      "Data: 2025-03-27 21:14:10.832000\n",
      "\n",
      "Data: 2025-03-27 21:14:10.832000\n",
      "\n",
      "Data: 2025-03-27 21:37:37.784000\n",
      "\n",
      "Data: 2025-03-27 21:48:13.159000\n",
      "\n",
      "Data: 2025-03-27 21:55:40.857000\n",
      "\n",
      "Data: 2025-03-27 22:07:48.124000\n",
      "\n",
      "Data: 2025-03-27 22:21:12.559000\n",
      "\n",
      "Data: 2025-03-27 22:21:12.589000\n",
      "\n"
     ]
    }
   ],
   "source": [
    "def data_add():\n",
    "    procurar = colecao.find({\"tags\": \"musica\"})\n",
    "\n",
    "    for musica in procurar:\n",
    "        print(f\"Data: {musica['data_adicao']}\")\n",
    "        print(\"\")\n",
    "\n",
    "data_add()"
   ]
  }
 ],
 "metadata": {
  "kernelspec": {
   "display_name": "Python 3 (ipykernel)",
   "language": "python",
   "name": "python3"
  },
  "language_info": {
   "codemirror_mode": {
    "name": "ipython",
    "version": 3
   },
   "file_extension": ".py",
   "mimetype": "text/x-python",
   "name": "python",
   "nbconvert_exporter": "python",
   "pygments_lexer": "ipython3",
   "version": "3.12.7"
  }
 },
 "nbformat": 4,
 "nbformat_minor": 5
}
